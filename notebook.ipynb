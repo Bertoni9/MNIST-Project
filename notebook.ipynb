{
 "cells": [
  {
   "cell_type": "markdown",
   "metadata": {},
   "source": [
    "# Deep Neural Networks: Libraries comparison"
   ]
  },
  {
   "cell_type": "markdown",
   "metadata": {},
   "source": [
    "## 1) Numpy\n",
    "L-layers neural network for binary and multi-class classification built on numpy.\n",
    "\n",
    "### Activation functions\n",
    "- **ReLU**: $A = RELU(Z) = max(0, Z)$\n",
    "- **Sigmoid**: $\\sigma(Z) = \\sigma(W A + b) = \\frac{1}{ 1 + e^{-(W A + b)}}$\n",
    "\n",
    "### Cost Function\n",
    "- **Cross-Entropy Loss**: $ \\frac{1}{m}\\sum^m_{i=1} y^{(i)}*log(\\hat y^{[L](i)}) + (1-y^{(i)})*log(1- \\hat y^{[L](i)})$\n",
    "\n",
    "prova"
   ]
  },
  {
   "cell_type": "code",
   "execution_count": null,
   "metadata": {
    "collapsed": true
   },
   "outputs": [],
   "source": []
  }
 ],
 "metadata": {
  "kernelspec": {
   "display_name": "Python 3",
   "language": "python",
   "name": "python3"
  },
  "language_info": {
   "codemirror_mode": {
    "name": "ipython",
    "version": 3
   },
   "file_extension": ".py",
   "mimetype": "text/x-python",
   "name": "python",
   "nbconvert_exporter": "python",
   "pygments_lexer": "ipython3",
   "version": "3.6.3"
  }
 },
 "nbformat": 4,
 "nbformat_minor": 2
}
